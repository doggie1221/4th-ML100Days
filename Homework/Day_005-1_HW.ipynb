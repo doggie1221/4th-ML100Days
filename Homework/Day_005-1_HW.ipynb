{
 "cells": [
  {
   "cell_type": "code",
   "execution_count": 1,
   "metadata": {},
   "outputs": [
    {
     "name": "stdout",
     "output_type": "stream",
     "text": [
      "    國家  GDP(10億美元)\n",
      "0   美國       20544\n",
      "1  歐元區       13670\n",
      "2   中國       13608\n",
      "3   台灣         590\n"
     ]
    }
   ],
   "source": [
    "#範例\n",
    "import pandas as pd\n",
    "raw_data = pd.DataFrame({\"國家\":[\"美國\",\"歐元區\",\"中國\",\"台灣\"], \"GDP(10億美元)\":[20544, 13670, 13608, 590]})\n",
    "print(raw_data)"
   ]
  }
 ],
 "metadata": {
  "kernelspec": {
   "display_name": "Python 3",
   "language": "python",
   "name": "python3"
  },
  "language_info": {
   "codemirror_mode": {
    "name": "ipython",
    "version": 3
   },
   "file_extension": ".py",
   "mimetype": "text/x-python",
   "name": "python",
   "nbconvert_exporter": "python",
   "pygments_lexer": "ipython3",
   "version": "3.7.4"
  }
 },
 "nbformat": 4,
 "nbformat_minor": 2
}
